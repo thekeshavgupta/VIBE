{
 "cells": [
  {
   "cell_type": "code",
   "execution_count": null,
   "id": "a23b1f22",
   "metadata": {},
   "outputs": [],
   "source": [
    "import torch\n",
    "import pandas as pd\n",
    "\n",
    "class EmbeddingEncoder:\n",
    "    def __init__(self, data_path: str):\n",
    "        super().__init__()\n",
    "        self.data = pd.read_csv(data_path, sep=',')\n",
    "    \n",
    "    def encodeDataset(self) -> list[torch.Tensor]:\n",
    "        # TODO: Implement the encoding logic\n",
    "        pass\n",
    "    \n",
    "    def encodeOnFly(self, json_path: str):\n",
    "        # TODO: Implement the code logic to handle on the fly data\n",
    "        pass"
   ]
  }
 ],
 "metadata": {
  "kernelspec": {
   "display_name": "Python 3",
   "language": "python",
   "name": "python3"
  },
  "language_info": {
   "name": "python",
   "version": "3.10.18"
  }
 },
 "nbformat": 4,
 "nbformat_minor": 5
}
