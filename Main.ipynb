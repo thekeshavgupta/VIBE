{
 "cells": [
  {
   "cell_type": "code",
   "execution_count": 3,
   "id": "2766f514",
   "metadata": {},
   "outputs": [],
   "source": [
    "import torch\n",
    "from torch import nn\n",
    "import pandas as pd\n",
    "# %pip install ipynb\n",
    "from ipynb.fs.full.AdversaryClassifier import *\n",
    "from ipynb.fs.full.EmbeddingEncoder import *\n"
   ]
  },
  {
   "cell_type": "code",
   "execution_count": null,
   "id": "d687904e",
   "metadata": {},
   "outputs": [],
   "source": [
    "# Defining Training & Testing loop\n",
    "def train(loss_fnc, model, optimiser,input_features = None, output_data = None, num_epochs=100):\n",
    "    # TODO: Update the code wrt to on the fly dataset\n",
    "    for epochs in range(num_epochs):\n",
    "        model.train()\n",
    "        predictions = model(input_features)\n",
    "        loss = loss_fnc(output_data,predictions)\n",
    "        \n",
    "        optimiser.zero_grad()\n",
    "        loss.backward()\n",
    "        \n",
    "        optimiser.step()\n",
    "        \n",
    "        model.eval()\n",
    "        test_predictions = model(input_features)\n",
    "        test_loss = loss_fnc(output_data,test_predictions)\n",
    "        \n",
    "        print(f\"Epoch: {epochs} == Training Loss: {loss} == Test Loss: {test_loss}\")\n",
    "\n",
    "\n",
    "if input.__name__ == \"main\":\n",
    "    \n",
    "    # Gathering embedding data\n",
    "    input_data_path = \"biased_gender_data_synthetic.csv\"\n",
    "    enc_model = EmbeddingEncoder(input_data_path) # type: ignore\n",
    "    [input_features, output_data] = enc_model.encodeDataset()\n",
    "    \n",
    "    # Training Adv Network with the Dataset\n",
    "    loss_fnc = nn.BCEWithLogitsLoss()\n",
    "    adv_model = AdversaryClassifierModel() # type: ignore\n",
    "    optimiser = torch.optim.Adam(params=adv_model.parameters(), lr=0.001)\n",
    "    train(loss_fnc, adv_model, optimiser, input_features=input_features, output_data=output_data, num_epochs=1000)"
   ]
  },
  {
   "cell_type": "code",
   "execution_count": null,
   "id": "c4770af7",
   "metadata": {},
   "outputs": [],
   "source": []
  }
 ],
 "metadata": {
  "kernelspec": {
   "display_name": "Python 3",
   "language": "python",
   "name": "python3"
  },
  "language_info": {
   "codemirror_mode": {
    "name": "ipython",
    "version": 3
   },
   "file_extension": ".py",
   "mimetype": "text/x-python",
   "name": "python",
   "nbconvert_exporter": "python",
   "pygments_lexer": "ipython3",
   "version": "3.10.18"
  }
 },
 "nbformat": 4,
 "nbformat_minor": 5
}
