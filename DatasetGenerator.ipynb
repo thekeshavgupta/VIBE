{
 "cells": [
  {
   "cell_type": "code",
   "execution_count": 11,
   "id": "c70c5ff7",
   "metadata": {},
   "outputs": [],
   "source": [
    "# Importing dependencies\n",
    "import random\n",
    "from datasets import Dataset"
   ]
  },
  {
   "cell_type": "code",
   "execution_count": 13,
   "id": "81993a2e",
   "metadata": {},
   "outputs": [],
   "source": [
    "# Generating synthetic dataset\n",
    "\n",
    "professions = {\n",
    "    \"male\": [\"engineer\", \"lawyer\", \"architect\", \"scientist\"],\n",
    "    \"female\": [\"nurse\", \"teacher\", \"librarian\", \"receptionist\"]\n",
    "}\n",
    "\n",
    "def generate_bio(gender: int, profession: str) -> str:\n",
    "    pronoun = \"He\" if gender == 0 else \"She\"\n",
    "    name = random.choice([\"Alex\", \"Sam\", \"Jamie\", \"Taylor\"])\n",
    "    return f\"{name} is a {profession}. {pronoun} has 5 years of experience.\"\n",
    "\n",
    "def generate_dataset(n=1000, bias_ratio=0.9):\n",
    "    data = []\n",
    "    for _ in range(n):\n",
    "        if random.random() < bias_ratio:\n",
    "            # Correlate gender with stereotypical profession\n",
    "            gender = random.randint(0, 1)\n",
    "            prof = random.choice(professions[\"male\" if gender == 0 else \"female\"])\n",
    "        else:\n",
    "            # Anti-stereotypical example\n",
    "            gender = random.randint(0, 1)\n",
    "            prof = random.choice(professions[\"female\" if gender == 0 else \"male\"])\n",
    "\n",
    "        bio = generate_bio(gender, prof)\n",
    "        data.append({\n",
    "            \"bio\": bio,\n",
    "            \"profession\": prof,\n",
    "            \"gender\": gender\n",
    "        })\n",
    "    return data\n",
    "\n",
    "synthetic_data = generate_dataset(n=5000, bias_ratio=0.85)\n",
    "hf_dataset = Dataset.from_list(synthetic_data)"
   ]
  },
  {
   "cell_type": "code",
   "execution_count": null,
   "id": "0ebbf219",
   "metadata": {},
   "outputs": [],
   "source": []
  },
  {
   "cell_type": "code",
   "execution_count": null,
   "id": "5e94b2ca",
   "metadata": {},
   "outputs": [],
   "source": []
  }
 ],
 "metadata": {
  "kernelspec": {
   "display_name": "Python 3",
   "language": "python",
   "name": "python3"
  },
  "language_info": {
   "codemirror_mode": {
    "name": "ipython",
    "version": 3
   },
   "file_extension": ".py",
   "mimetype": "text/x-python",
   "name": "python",
   "nbconvert_exporter": "python",
   "pygments_lexer": "ipython3",
   "version": "3.10.18"
  }
 },
 "nbformat": 4,
 "nbformat_minor": 5
}
