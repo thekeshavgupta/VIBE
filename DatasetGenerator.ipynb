{
 "cells": [
  {
   "cell_type": "code",
   "execution_count": 1,
   "id": "c70c5ff7",
   "metadata": {},
   "outputs": [
    {
     "name": "stderr",
     "output_type": "stream",
     "text": [
      "/opt/homebrew/lib/python3.10/site-packages/tqdm/auto.py:21: TqdmWarning: IProgress not found. Please update jupyter and ipywidgets. See https://ipywidgets.readthedocs.io/en/stable/user_install.html\n",
      "  from .autonotebook import tqdm as notebook_tqdm\n"
     ]
    }
   ],
   "source": [
    "# Importing dependencies\n",
    "import random\n",
    "from datasets import Dataset"
   ]
  },
  {
   "cell_type": "code",
   "execution_count": 2,
   "id": "81993a2e",
   "metadata": {},
   "outputs": [],
   "source": [
    "# Generating synthetic dataset\n",
    "\n",
    "professions = {\n",
    "    \"male\": [\"engineer\", \"lawyer\", \"architect\", \"scientist\"],\n",
    "    \"female\": [\"nurse\", \"teacher\", \"librarian\", \"receptionist\"]\n",
    "}\n",
    "\n",
    "def generate_bio(gender: int, profession: str) -> str:\n",
    "    pronoun = \"He\" if gender == 0 else \"She\"\n",
    "    name = random.choice([\"Alex\", \"Sam\", \"Jamie\", \"Taylor\"])\n",
    "    return f\"{name} is a {profession}. {pronoun} has 5 years of experience.\"\n",
    "\n",
    "def generate_dataset(n=1000, bias_ratio=0.9):\n",
    "    data = []\n",
    "    for _ in range(n):\n",
    "        if random.random() < bias_ratio:\n",
    "            # Correlate gender with stereotypical profession\n",
    "            gender = random.randint(0, 1)\n",
    "            prof = random.choice(professions[\"male\" if gender == 0 else \"female\"])\n",
    "        else:\n",
    "            # Anti-stereotypical example\n",
    "            gender = random.randint(0, 1)\n",
    "            prof = random.choice(professions[\"female\" if gender == 0 else \"male\"])\n",
    "\n",
    "        bio = generate_bio(gender, prof)\n",
    "        data.append({\n",
    "            \"bio\": bio,\n",
    "            \"profession\": prof,\n",
    "            \"gender\": gender\n",
    "        })\n",
    "    return data\n",
    "\n",
    "synthetic_data = generate_dataset(n=5000, bias_ratio=0.85)\n",
    "hf_dataset = Dataset.from_list(synthetic_data)"
   ]
  },
  {
   "cell_type": "code",
   "execution_count": 23,
   "id": "0ebbf219",
   "metadata": {},
   "outputs": [
    {
     "data": {
      "text/html": [
       "<div>\n",
       "<style scoped>\n",
       "    .dataframe tbody tr th:only-of-type {\n",
       "        vertical-align: middle;\n",
       "    }\n",
       "\n",
       "    .dataframe tbody tr th {\n",
       "        vertical-align: top;\n",
       "    }\n",
       "\n",
       "    .dataframe thead th {\n",
       "        text-align: right;\n",
       "    }\n",
       "</style>\n",
       "<table border=\"1\" class=\"dataframe\">\n",
       "  <thead>\n",
       "    <tr style=\"text-align: right;\">\n",
       "      <th></th>\n",
       "      <th>bio</th>\n",
       "      <th>gender</th>\n",
       "    </tr>\n",
       "  </thead>\n",
       "  <tbody>\n",
       "    <tr>\n",
       "      <th>0</th>\n",
       "      <td>Jamie is a librarian. She has 5 years of exper...</td>\n",
       "      <td>1</td>\n",
       "    </tr>\n",
       "    <tr>\n",
       "      <th>0</th>\n",
       "      <td>Taylor is a lawyer. He has 5 years of experience.</td>\n",
       "      <td>0</td>\n",
       "    </tr>\n",
       "    <tr>\n",
       "      <th>0</th>\n",
       "      <td>Sam is a scientist. He has 5 years of experience.</td>\n",
       "      <td>0</td>\n",
       "    </tr>\n",
       "    <tr>\n",
       "      <th>0</th>\n",
       "      <td>Taylor is a receptionist. She has 5 years of e...</td>\n",
       "      <td>1</td>\n",
       "    </tr>\n",
       "    <tr>\n",
       "      <th>0</th>\n",
       "      <td>Taylor is a architect. He has 5 years of exper...</td>\n",
       "      <td>0</td>\n",
       "    </tr>\n",
       "  </tbody>\n",
       "</table>\n",
       "</div>"
      ],
      "text/plain": [
       "                                                 bio  gender\n",
       "0  Jamie is a librarian. She has 5 years of exper...       1\n",
       "0  Taylor is a lawyer. He has 5 years of experience.       0\n",
       "0  Sam is a scientist. He has 5 years of experience.       0\n",
       "0  Taylor is a receptionist. She has 5 years of e...       1\n",
       "0  Taylor is a architect. He has 5 years of exper...       0"
      ]
     },
     "execution_count": 23,
     "metadata": {},
     "output_type": "execute_result"
    }
   ],
   "source": [
    "import pandas as pd\n",
    "\n",
    "# creating the dataframe object\n",
    "df = []\n",
    "for gender_data in list(hf_dataset):\n",
    "    small_df = pd.DataFrame.from_dict({\n",
    "        \"bio\": [gender_data['bio']],\n",
    "        \"gender\": [gender_data['gender']]\n",
    "    })\n",
    "    df.append(small_df)\n",
    "output_df = pd.concat(df)\n",
    "output_df.head()"
   ]
  },
  {
   "cell_type": "code",
   "execution_count": 25,
   "id": "5e94b2ca",
   "metadata": {},
   "outputs": [],
   "source": [
    "# saving dataframe into csv file\n",
    "\n",
    "file_name = \"biased_gender_data_synthetic.csv\"\n",
    "output_df.to_csv(file_name, index=False)"
   ]
  },
  {
   "cell_type": "code",
   "execution_count": null,
   "id": "0b4640c6",
   "metadata": {},
   "outputs": [],
   "source": []
  }
 ],
 "metadata": {
  "kernelspec": {
   "display_name": "Python 3",
   "language": "python",
   "name": "python3"
  },
  "language_info": {
   "codemirror_mode": {
    "name": "ipython",
    "version": 3
   },
   "file_extension": ".py",
   "mimetype": "text/x-python",
   "name": "python",
   "nbconvert_exporter": "python",
   "pygments_lexer": "ipython3",
   "version": "3.10.18"
  }
 },
 "nbformat": 4,
 "nbformat_minor": 5
}
